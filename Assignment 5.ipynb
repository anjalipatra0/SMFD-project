{
 "cells": [
  {
   "cell_type": "markdown",
   "id": "3cbe5f24",
   "metadata": {},
   "source": [
    "\n",
    "# Assignment 5: Simulating Call Option Prices using GBM\n",
    "\n",
    "In this notebook, we simulate and estimate the prices of different types of call options using the Euler–Maruyama method and Monte Carlo simulation.\n",
    "\n",
    "The underlying asset follows a Geometric Brownian Motion (GBM), and the options priced are:\n",
    "\n",
    "- European Call Option\n",
    "- Arithmetic Asian Call Option\n",
    "- Geometric Asian Call Option\n",
    "- Lookback Call Option (floating strike)\n",
    "\n",
    "Assumptions:\n",
    "- The asset price follows GBM: dS_t = mu * S_t * dt + sigma * S_t * dW_t\n",
    "- We are working under the risk-neutral measure, so mu = r\n",
    "- No dividends or transaction costs\n",
    "- Euler–Maruyama discretization is used for simulation\n"
   ]
  },
  {
   "cell_type": "code",
   "execution_count": null,
   "id": "e7dbe4e3",
   "metadata": {},
   "outputs": [],
   "source": [
    "\n",
    "import numpy as np\n",
    "import matplotlib.pyplot as plt\n",
    "\n",
    "# Set random seed for reproducibility\n",
    "np.random.seed(42)\n",
    "\n",
    "# Simulation parameters\n",
    "S0 = 100      # Initial asset price\n",
    "K = 100       # Strike price\n",
    "T = 1.0       # Time to maturity (in years)\n",
    "r = 0.05      # Risk-free interest rate\n",
    "sigma = 0.2   # Volatility\n",
    "M = 100       # Number of time steps\n",
    "N = 10000     # Number of simulation paths\n",
    "dt = T / M\n",
    "\n",
    "print(f\"Simulating {N} paths over {M} time steps...\")\n"
   ]
  },
  {
   "cell_type": "code",
   "execution_count": null,
   "id": "3d834b4d",
   "metadata": {},
   "outputs": [],
   "source": [
    "\n",
    "def simulate_gbm_paths(S0, r, sigma, T, M, N):\n",
    "    dt = T / M\n",
    "    paths = np.zeros((N, M + 1))\n",
    "    paths[:, 0] = S0\n",
    "    for t in range(1, M + 1):\n",
    "        Z = np.random.normal(0, 1, N)\n",
    "        paths[:, t] = paths[:, t - 1] * (1 + r * dt + sigma * np.sqrt(dt) * Z)\n",
    "    return paths\n"
   ]
  },
  {
   "cell_type": "code",
   "execution_count": null,
   "id": "74d5ad93",
   "metadata": {},
   "outputs": [],
   "source": [
    "\n",
    "def european_call_price(paths, K, r, T):\n",
    "    payoff = np.maximum(paths[:, -1] - K, 0)\n",
    "    return np.exp(-r * T) * np.mean(payoff)\n",
    "\n",
    "def arithmetic_asian_call_price(paths, K, r, T):\n",
    "    average_price = np.mean(paths[:, 1:], axis=1)\n",
    "    payoff = np.maximum(average_price - K, 0)\n",
    "    return np.exp(-r * T) * np.mean(payoff)\n",
    "\n",
    "def geometric_asian_call_price(paths, K, r, T):\n",
    "    log_paths = np.log(paths[:, 1:])\n",
    "    geo_average = np.exp(np.mean(log_paths, axis=1))\n",
    "    payoff = np.maximum(geo_average - K, 0)\n",
    "    return np.exp(-r * T) * np.mean(payoff)\n",
    "\n",
    "def lookback_call_floating_strike_price(paths, r, T):\n",
    "    min_price = np.min(paths[:, 1:], axis=1)\n",
    "    payoff = np.maximum(paths[:, -1] - min_price, 0)\n",
    "    return np.exp(-r * T) * np.mean(payoff)\n"
   ]
  },
  {
   "cell_type": "code",
   "execution_count": null,
   "id": "f41de745",
   "metadata": {},
   "outputs": [],
   "source": [
    "\n",
    "paths = simulate_gbm_paths(S0, r, sigma, T, M, N)\n",
    "\n",
    "print(\"European Call Option Price:\", round(european_call_price(paths, K, r, T), 4))\n",
    "print(\"Arithmetic Asian Call Option Price:\", round(arithmetic_asian_call_price(paths, K, r, T), 4))\n",
    "print(\"Geometric Asian Call Option Price:\", round(geometric_asian_call_price(paths, K, r, T), 4))\n",
    "print(\"Lookback (Floating Strike) Call Option Price:\", round(lookback_call_floating_strike_price(paths, r, T), 4))\n"
   ]
  },
  {
   "cell_type": "code",
   "execution_count": null,
   "id": "67d663d9",
   "metadata": {},
   "outputs": [],
   "source": [
    "\n",
    "plt.figure(figsize=(10, 6))\n",
    "for i in range(10):\n",
    "    plt.plot(np.linspace(0, T, M + 1), paths[i], lw=1)\n",
    "plt.title('Sample GBM Asset Price Paths')\n",
    "plt.xlabel('Time (Years)')\n",
    "plt.ylabel('Asset Price')\n",
    "plt.grid(True)\n",
    "plt.show()\n"
   ]
  },
  {
   "cell_type": "markdown",
   "id": "7deb285c",
   "metadata": {},
   "source": [
    "\n",
    "Summary:\n",
    "\n",
    "- Asset paths were simulated using the Euler–Maruyama method.\n",
    "- Prices of four types of call options were estimated using Monte Carlo simulation.\n",
    "- Each option type required a different payoff function applied at maturity.\n"
   ]
  }
 ],
 "metadata": {},
 "nbformat": 4,
 "nbformat_minor": 5
}
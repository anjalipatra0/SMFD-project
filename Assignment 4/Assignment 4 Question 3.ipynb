{
 "cells": [
  {
   "cell_type": "markdown",
   "metadata": {},
   "source": [
    "# Buffon's Needle — Monte Carlo Estimation of π"
   ]
  },
  {
   "cell_type": "code",
   "execution_count": null,
   "metadata": {},
   "outputs": [],
   "source": [
    "import numpy as np\n",
    "import matplotlib.pyplot as plt\n",
    "\n",
    "N = 10000  # total drops\n",
    "l = d = 1  # needle length and line distance\n",
    "\n",
    "cross = 0\n",
    "estimates = []\n",
    "\n",
    "for i in range(1, N + 1):\n",
    "    x = np.random.uniform(0, d / 2)\n",
    "    theta = np.random.uniform(0, np.pi / 2)\n",
    "    if (l / 2) * np.sin(theta) >= x:\n",
    "        cross += 1\n",
    "    if cross > 0:\n",
    "        estimates.append((2 * i) / cross)\n",
    "    else:\n",
    "        estimates.append(0)\n",
    "\n",
    "plt.figure(figsize=(8, 5))\n",
    "plt.plot(range(1, N + 1), estimates, label='Estimated π')\n",
    "plt.axhline(np.pi, color='r', linestyle='--', label='Actual π')\n",
    "plt.xscale('log')\n",
    "plt.xlabel('Number of Drops (log scale)')\n",
    "plt.ylabel('Estimated π')\n",
    "plt.title(\"Buffon's Needle Estimation of π\")\n",
    "plt.legend()\n",
    "plt.grid(True)\n",
    "plt.tight_layout()\n",
    "plt.show()"
   ]
  },
  {
   "cell_type": "markdown",
   "metadata": {},
   "source": [
    "**Comment:**  \n",
    "The estimated value of π gets closer to the true value (~3.1416) as the number of drops increases. Small errors occur due to randomness in each run, especially at low sample sizes. Seed variation and limited precision in angle generation can also slightly affect the result."
   ]
  }
 ],
 "metadata": {
  "kernelspec": {
   "display_name": "Python 3",
   "language": "python",
   "name": "python3"
  },
  "language_info": {
   "name": "python",
   "version": "3.10"
  }
 },
 "nbformat": 4,
 "nbformat_minor": 5
}
